{
  "nbformat": 4,
  "nbformat_minor": 0,
  "metadata": {
    "colab": {
      "name": "DMDW1.ipynb",
      "provenance": [],
      "authorship_tag": "ABX9TyM0FbFLCfpreFreTbRqYJuO",
      "include_colab_link": true
    },
    "kernelspec": {
      "name": "python3",
      "display_name": "Python 3"
    }
  },
  "cells": [
    {
      "cell_type": "markdown",
      "metadata": {
        "id": "view-in-github",
        "colab_type": "text"
      },
      "source": [
        "<a href=\"https://colab.research.google.com/github/capcap555/choudhury_18cse059/blob/main/DMDW1.ipynb\" target=\"_parent\"><img src=\"https://colab.research.google.com/assets/colab-badge.svg\" alt=\"Open In Colab\"/></a>"
      ]
    },
    {
      "cell_type": "code",
      "metadata": {
        "colab": {
          "base_uri": "https://localhost:8080/"
        },
        "id": "F_FDTJl7Ysqr",
        "outputId": "39817d42-ed3b-4698-ec9a-2d72ad266fcb"
      },
      "source": [
        "n_num = [1, 2, 3, 4, 5]\n",
        "n=len(n_num)\n",
        "s=sum(n_num)\n",
        "mean=s/n\n",
        "print(\"Mean is\",mean)"
      ],
      "execution_count": 1,
      "outputs": [
        {
          "output_type": "stream",
          "text": [
            "Mean is 3.0\n"
          ],
          "name": "stdout"
        }
      ]
    },
    {
      "cell_type": "code",
      "metadata": {
        "colab": {
          "base_uri": "https://localhost:8080/"
        },
        "id": "VghSgyfYZEJn",
        "outputId": "b0165736-cadb-4e44-829f-645f00b978c7"
      },
      "source": [
        "n_num = [1, 2, 3, 4, 5]\n",
        "n=len(n_num)\n",
        "n_num.sort()\n",
        "if n%2==0:\n",
        "  m1=n_num[n//2]\n",
        "  m2=n_num[n//2-1]\n",
        "  median=(m1+m2)/2\n",
        "else:\n",
        "  median=n_num[n//2]\n",
        "print(\"Median is\",median)"
      ],
      "execution_count": 2,
      "outputs": [
        {
          "output_type": "stream",
          "text": [
            "Median is 3\n"
          ],
          "name": "stdout"
        }
      ]
    },
    {
      "cell_type": "code",
      "metadata": {
        "colab": {
          "base_uri": "https://localhost:8080/"
        },
        "id": "ieeVuQxmZRst",
        "outputId": "08ebc411-bc8f-4a5a-d74d-f88f20b3ac6b"
      },
      "source": [
        "from collections import Counter \n",
        "\n",
        "n_num = [1, 2, 3, 4, 5, 5] \n",
        "n = len(n_num) \n",
        "  \n",
        "data = Counter(n_num) \n",
        "get_mode = dict(data) \n",
        "mode = [k for k, v in get_mode.items() if v == max(list(data.values()))] \n",
        "  \n",
        "if len(mode) == n: \n",
        "    get_mode = \"No mode found\"\n",
        "else: \n",
        "    get_mode = \"Mode is / are: \" + ', '.join(map(str, mode)) \n",
        "      \n",
        "print(get_mode) "
      ],
      "execution_count": 3,
      "outputs": [
        {
          "output_type": "stream",
          "text": [
            "Mode is / are: 5\n"
          ],
          "name": "stdout"
        }
      ]
    },
    {
      "cell_type": "code",
      "metadata": {
        "colab": {
          "base_uri": "https://localhost:8080/"
        },
        "id": "e1JGeH8yaRn2",
        "outputId": "bff9ad1b-ec57-4c0c-9205-0be52c8244ec"
      },
      "source": [
        "def variance(data):\n",
        "     n = len(data)\n",
        "     mean = sum(data) / n\n",
        "     deviations = [(x - mean) ** 2 for x in data]\n",
        "     variance = sum(deviations) / (n-1)\n",
        "     return variance\n",
        "variance([4, 8, 6, 5, 3, 2, 8, 9, 2, 5])"
      ],
      "execution_count": 18,
      "outputs": [
        {
          "output_type": "execute_result",
          "data": {
            "text/plain": [
              "6.4"
            ]
          },
          "metadata": {
            "tags": []
          },
          "execution_count": 18
        }
      ]
    },
    {
      "cell_type": "code",
      "metadata": {
        "colab": {
          "base_uri": "https://localhost:8080/"
        },
        "id": "njFylO4nhtxv",
        "outputId": "8c1bed99-8f44-4025-c9d4-b2c9daf92ffb"
      },
      "source": [
        "import math\n",
        "def variance(data):\n",
        "     n = len(data)\n",
        "     mean = sum(data) / n\n",
        "     return sum((x - mean) ** 2 for x in data) / (n -1)\n",
        "\n",
        "\n",
        "def stdev(data):\n",
        "     var = variance(data)\n",
        "     std_dev = math.sqrt(var)\n",
        "     return std_dev\n",
        "stdev([4, 8, 6, 5, 3, 2, 8, 9, 2, 5])"
      ],
      "execution_count": 23,
      "outputs": [
        {
          "output_type": "execute_result",
          "data": {
            "text/plain": [
              "2.5298221281347035"
            ]
          },
          "metadata": {
            "tags": []
          },
          "execution_count": 23
        }
      ]
    },
    {
      "cell_type": "code",
      "metadata": {
        "colab": {
          "base_uri": "https://localhost:8080/"
        },
        "id": "HF0wVeT3iydP",
        "outputId": "afdcac39-b47a-4be9-e3d7-4c6ad2b1074b"
      },
      "source": [
        "L = [1, \"a\" , \"string\" , 1+2] \n",
        "print (L) \n",
        "L.append(6) \n",
        "print (L)\n",
        "L.pop() \n",
        "print (L) \n",
        "print (L[1])"
      ],
      "execution_count": 28,
      "outputs": [
        {
          "output_type": "stream",
          "text": [
            "[1, 'a', 'string', 3]\n",
            "[1, 'a', 'string', 3, 6]\n",
            "[1, 'a', 'string', 3]\n",
            "a\n"
          ],
          "name": "stdout"
        }
      ]
    },
    {
      "cell_type": "code",
      "metadata": {
        "colab": {
          "base_uri": "https://localhost:8080/"
        },
        "id": "jlzF8pdejrRf",
        "outputId": "df1a6b2c-d8bf-4ba7-c4e0-74da2a0a3da7"
      },
      "source": [
        "tup = (1, \"a\", \"string\", 1+2) \n",
        "print(tup) \n",
        "print(tup[1]) "
      ],
      "execution_count": 29,
      "outputs": [
        {
          "output_type": "stream",
          "text": [
            "(1, 'a', 'string', 3)\n",
            "a\n"
          ],
          "name": "stdout"
        }
      ]
    },
    {
      "cell_type": "code",
      "metadata": {
        "colab": {
          "base_uri": "https://localhost:8080/"
        },
        "id": "jFzKU4O3kCpx",
        "outputId": "b4dabd91-b12d-465f-b95b-07d6acd7778a"
      },
      "source": [
        "month={1:'JAN',2:'FEB',3:'MAR',4:'APR',5:'MAY',6:'JUNE',7:'JULY',8:'AUG',9:'SEP',10:'OCT',11:'NOV',12:'DEC'}\n",
        "print(month[1],month[3])\n",
        "print(month)"
      ],
      "execution_count": 36,
      "outputs": [
        {
          "output_type": "stream",
          "text": [
            "JAN MAR\n",
            "{1: 'JAN', 2: 'FEB', 3: 'MAR', 4: 'APR', 5: 'MAY', 6: 'JUNE', 7: 'JULY', 8: 'AUG', 9: 'SEP', 10: 'OCT', 11: 'NOV', 12: 'DEC'}\n"
          ],
          "name": "stdout"
        }
      ]
    }
  ]
}