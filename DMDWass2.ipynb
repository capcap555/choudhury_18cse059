{
  "nbformat": 4,
  "nbformat_minor": 0,
  "metadata": {
    "colab": {
      "name": "DMDWass2.ipynb",
      "provenance": [],
      "authorship_tag": "ABX9TyOtOSIi6TQYiC/GMZVdyQRu",
      "include_colab_link": true
    },
    "kernelspec": {
      "name": "python3",
      "display_name": "Python 3"
    }
  },
  "cells": [
    {
      "cell_type": "markdown",
      "metadata": {
        "id": "view-in-github",
        "colab_type": "text"
      },
      "source": [
        "<a href=\"https://colab.research.google.com/github/capcap555/choudhury_18cse059/blob/main/DMDWass2.ipynb\" target=\"_parent\"><img src=\"https://colab.research.google.com/assets/colab-badge.svg\" alt=\"Open In Colab\"/></a>"
      ]
    },
    {
      "cell_type": "code",
      "metadata": {
        "colab": {
          "base_uri": "https://localhost:8080/",
          "height": 402
        },
        "id": "FwjcLdgARgnW",
        "outputId": "8d37037f-7696-4bc5-9be2-4427967adcbf"
      },
      "source": [
        "import pandas as pd\n",
        "url=\"https://raw.githubusercontent.com/capcap555/choudhury_18cse059/main/PokeTypeMatchupData.csv\"\n",
        "df=pd.read_csv(url)\n",
        "df"
      ],
      "execution_count": 1,
      "outputs": [
        {
          "output_type": "execute_result",
          "data": {
            "text/html": [
              "<div>\n",
              "<style scoped>\n",
              "    .dataframe tbody tr th:only-of-type {\n",
              "        vertical-align: middle;\n",
              "    }\n",
              "\n",
              "    .dataframe tbody tr th {\n",
              "        vertical-align: top;\n",
              "    }\n",
              "\n",
              "    .dataframe thead th {\n",
              "        text-align: right;\n",
              "    }\n",
              "</style>\n",
              "<table border=\"1\" class=\"dataframe\">\n",
              "  <thead>\n",
              "    <tr style=\"text-align: right;\">\n",
              "      <th></th>\n",
              "      <th>Name</th>\n",
              "      <th>Number</th>\n",
              "      <th>Normal</th>\n",
              "      <th>Fire</th>\n",
              "      <th>Water</th>\n",
              "      <th>Electric</th>\n",
              "      <th>Grass</th>\n",
              "      <th>Ice</th>\n",
              "      <th>Fighting</th>\n",
              "      <th>Poison</th>\n",
              "      <th>Ground</th>\n",
              "      <th>Flying</th>\n",
              "      <th>Psychic</th>\n",
              "      <th>Bug</th>\n",
              "      <th>Rock</th>\n",
              "      <th>Ghost</th>\n",
              "      <th>Dragon</th>\n",
              "      <th>Dark</th>\n",
              "      <th>Steel</th>\n",
              "      <th>Fairy</th>\n",
              "    </tr>\n",
              "  </thead>\n",
              "  <tbody>\n",
              "    <tr>\n",
              "      <th>0</th>\n",
              "      <td>Bulbasaur</td>\n",
              "      <td>#001</td>\n",
              "      <td>*1</td>\n",
              "      <td>*2</td>\n",
              "      <td>*0.5</td>\n",
              "      <td>*0.5</td>\n",
              "      <td>*0.25</td>\n",
              "      <td>*2</td>\n",
              "      <td>*0.5</td>\n",
              "      <td>*1</td>\n",
              "      <td>*1</td>\n",
              "      <td>*2</td>\n",
              "      <td>*2</td>\n",
              "      <td>*1</td>\n",
              "      <td>*1</td>\n",
              "      <td>*1</td>\n",
              "      <td>*1</td>\n",
              "      <td>*1</td>\n",
              "      <td>*1</td>\n",
              "      <td>*0.5</td>\n",
              "    </tr>\n",
              "    <tr>\n",
              "      <th>1</th>\n",
              "      <td>Ivysaur</td>\n",
              "      <td>#002</td>\n",
              "      <td>*1</td>\n",
              "      <td>*2</td>\n",
              "      <td>*0.5</td>\n",
              "      <td>*0.5</td>\n",
              "      <td>*0.25</td>\n",
              "      <td>*2</td>\n",
              "      <td>*0.5</td>\n",
              "      <td>*1</td>\n",
              "      <td>*1</td>\n",
              "      <td>*2</td>\n",
              "      <td>*2</td>\n",
              "      <td>*1</td>\n",
              "      <td>*1</td>\n",
              "      <td>*1</td>\n",
              "      <td>*1</td>\n",
              "      <td>*1</td>\n",
              "      <td>*1</td>\n",
              "      <td>*0.5</td>\n",
              "    </tr>\n",
              "    <tr>\n",
              "      <th>2</th>\n",
              "      <td>Venusaur</td>\n",
              "      <td>#003</td>\n",
              "      <td>*1</td>\n",
              "      <td>*2</td>\n",
              "      <td>*0.5</td>\n",
              "      <td>*0.5</td>\n",
              "      <td>*0.25</td>\n",
              "      <td>*2</td>\n",
              "      <td>*0.5</td>\n",
              "      <td>*1</td>\n",
              "      <td>*1</td>\n",
              "      <td>*2</td>\n",
              "      <td>*2</td>\n",
              "      <td>*1</td>\n",
              "      <td>*1</td>\n",
              "      <td>*1</td>\n",
              "      <td>*1</td>\n",
              "      <td>*1</td>\n",
              "      <td>*1</td>\n",
              "      <td>*0.5</td>\n",
              "    </tr>\n",
              "    <tr>\n",
              "      <th>3</th>\n",
              "      <td>Charmander</td>\n",
              "      <td>#004</td>\n",
              "      <td>*1</td>\n",
              "      <td>*0.5</td>\n",
              "      <td>*2</td>\n",
              "      <td>*1</td>\n",
              "      <td>*0.5</td>\n",
              "      <td>*0.5</td>\n",
              "      <td>*1</td>\n",
              "      <td>*1</td>\n",
              "      <td>*2</td>\n",
              "      <td>*1</td>\n",
              "      <td>*1</td>\n",
              "      <td>*0.5</td>\n",
              "      <td>*2</td>\n",
              "      <td>*1</td>\n",
              "      <td>*1</td>\n",
              "      <td>*1</td>\n",
              "      <td>*0.5</td>\n",
              "      <td>*0.5</td>\n",
              "    </tr>\n",
              "    <tr>\n",
              "      <th>4</th>\n",
              "      <td>Charmeleon</td>\n",
              "      <td>#005</td>\n",
              "      <td>*1</td>\n",
              "      <td>*0.5</td>\n",
              "      <td>*2</td>\n",
              "      <td>*1</td>\n",
              "      <td>*0.5</td>\n",
              "      <td>*0.5</td>\n",
              "      <td>*1</td>\n",
              "      <td>*1</td>\n",
              "      <td>*2</td>\n",
              "      <td>*1</td>\n",
              "      <td>*1</td>\n",
              "      <td>*0.5</td>\n",
              "      <td>*2</td>\n",
              "      <td>*1</td>\n",
              "      <td>*1</td>\n",
              "      <td>*1</td>\n",
              "      <td>*0.5</td>\n",
              "      <td>*0.5</td>\n",
              "    </tr>\n",
              "    <tr>\n",
              "      <th>...</th>\n",
              "      <td>...</td>\n",
              "      <td>...</td>\n",
              "      <td>...</td>\n",
              "      <td>...</td>\n",
              "      <td>...</td>\n",
              "      <td>...</td>\n",
              "      <td>...</td>\n",
              "      <td>...</td>\n",
              "      <td>...</td>\n",
              "      <td>...</td>\n",
              "      <td>...</td>\n",
              "      <td>...</td>\n",
              "      <td>...</td>\n",
              "      <td>...</td>\n",
              "      <td>...</td>\n",
              "      <td>...</td>\n",
              "      <td>...</td>\n",
              "      <td>...</td>\n",
              "      <td>...</td>\n",
              "      <td>...</td>\n",
              "    </tr>\n",
              "    <tr>\n",
              "      <th>571</th>\n",
              "      <td>Eternatus</td>\n",
              "      <td>#890</td>\n",
              "      <td>*1</td>\n",
              "      <td>*0.5</td>\n",
              "      <td>*0.5</td>\n",
              "      <td>*0.5</td>\n",
              "      <td>*0.25</td>\n",
              "      <td>*2</td>\n",
              "      <td>*0.5</td>\n",
              "      <td>*0.5</td>\n",
              "      <td>*2</td>\n",
              "      <td>*1</td>\n",
              "      <td>*2</td>\n",
              "      <td>*0.5</td>\n",
              "      <td>*1</td>\n",
              "      <td>*1</td>\n",
              "      <td>*2</td>\n",
              "      <td>*1</td>\n",
              "      <td>*1</td>\n",
              "      <td>*1</td>\n",
              "    </tr>\n",
              "    <tr>\n",
              "      <th>572</th>\n",
              "      <td>Kubfu</td>\n",
              "      <td>#891</td>\n",
              "      <td>*1</td>\n",
              "      <td>*1</td>\n",
              "      <td>*1</td>\n",
              "      <td>*1</td>\n",
              "      <td>*1</td>\n",
              "      <td>*1</td>\n",
              "      <td>*1</td>\n",
              "      <td>*1</td>\n",
              "      <td>*1</td>\n",
              "      <td>*2</td>\n",
              "      <td>*2</td>\n",
              "      <td>*0.5</td>\n",
              "      <td>*0.5</td>\n",
              "      <td>*1</td>\n",
              "      <td>*1</td>\n",
              "      <td>*0.5</td>\n",
              "      <td>*1</td>\n",
              "      <td>*2</td>\n",
              "    </tr>\n",
              "    <tr>\n",
              "      <th>573</th>\n",
              "      <td>Urshifu</td>\n",
              "      <td>#892</td>\n",
              "      <td>*1</td>\n",
              "      <td>*1</td>\n",
              "      <td>*1</td>\n",
              "      <td>*1</td>\n",
              "      <td>*1</td>\n",
              "      <td>*1</td>\n",
              "      <td>*2</td>\n",
              "      <td>*1</td>\n",
              "      <td>*1</td>\n",
              "      <td>*2</td>\n",
              "      <td>*0</td>\n",
              "      <td>*1</td>\n",
              "      <td>*0.5</td>\n",
              "      <td>*0.5</td>\n",
              "      <td>*1</td>\n",
              "      <td>*0.25</td>\n",
              "      <td>*1</td>\n",
              "      <td>*4</td>\n",
              "    </tr>\n",
              "    <tr>\n",
              "      <th>574</th>\n",
              "      <td>Urshifu Rapid Strike</td>\n",
              "      <td>#892</td>\n",
              "      <td>*1</td>\n",
              "      <td>*0.5</td>\n",
              "      <td>*0.5</td>\n",
              "      <td>*2</td>\n",
              "      <td>*2</td>\n",
              "      <td>*0.5</td>\n",
              "      <td>*1</td>\n",
              "      <td>*1</td>\n",
              "      <td>*1</td>\n",
              "      <td>*2</td>\n",
              "      <td>*2</td>\n",
              "      <td>*0.5</td>\n",
              "      <td>*0.5</td>\n",
              "      <td>*1</td>\n",
              "      <td>*1</td>\n",
              "      <td>*0.5</td>\n",
              "      <td>*0.5</td>\n",
              "      <td>*2</td>\n",
              "    </tr>\n",
              "    <tr>\n",
              "      <th>575</th>\n",
              "      <td>Zarude</td>\n",
              "      <td>#893</td>\n",
              "      <td>*1</td>\n",
              "      <td>*2</td>\n",
              "      <td>*0.5</td>\n",
              "      <td>*0.5</td>\n",
              "      <td>*0.5</td>\n",
              "      <td>*2</td>\n",
              "      <td>*2</td>\n",
              "      <td>*2</td>\n",
              "      <td>*0.5</td>\n",
              "      <td>*2</td>\n",
              "      <td>*0</td>\n",
              "      <td>*4</td>\n",
              "      <td>*1</td>\n",
              "      <td>*0.5</td>\n",
              "      <td>*1</td>\n",
              "      <td>*0.5</td>\n",
              "      <td>*1</td>\n",
              "      <td>*2</td>\n",
              "    </tr>\n",
              "  </tbody>\n",
              "</table>\n",
              "<p>576 rows × 20 columns</p>\n",
              "</div>"
            ],
            "text/plain": [
              "                     Name Number Normal  Fire  ... Dragon   Dark Steel Fairy\n",
              "0               Bulbasaur   #001     *1    *2  ...     *1     *1    *1  *0.5\n",
              "1                 Ivysaur   #002     *1    *2  ...     *1     *1    *1  *0.5\n",
              "2                Venusaur   #003     *1    *2  ...     *1     *1    *1  *0.5\n",
              "3              Charmander   #004     *1  *0.5  ...     *1     *1  *0.5  *0.5\n",
              "4              Charmeleon   #005     *1  *0.5  ...     *1     *1  *0.5  *0.5\n",
              "..                    ...    ...    ...   ...  ...    ...    ...   ...   ...\n",
              "571             Eternatus   #890     *1  *0.5  ...     *2     *1    *1    *1\n",
              "572                 Kubfu   #891     *1    *1  ...     *1   *0.5    *1    *2\n",
              "573               Urshifu   #892     *1    *1  ...     *1  *0.25    *1    *4\n",
              "574  Urshifu Rapid Strike   #892     *1  *0.5  ...     *1   *0.5  *0.5    *2\n",
              "575                Zarude   #893     *1    *2  ...     *1   *0.5    *1    *2\n",
              "\n",
              "[576 rows x 20 columns]"
            ]
          },
          "metadata": {
            "tags": []
          },
          "execution_count": 1
        }
      ]
    },
    {
      "cell_type": "code",
      "metadata": {
        "colab": {
          "base_uri": "https://localhost:8080/",
          "height": 195
        },
        "id": "062jNwR2RvZO",
        "outputId": "67795094-c674-4104-8333-ee7c135c71d4"
      },
      "source": [
        "df.head()"
      ],
      "execution_count": 2,
      "outputs": [
        {
          "output_type": "execute_result",
          "data": {
            "text/html": [
              "<div>\n",
              "<style scoped>\n",
              "    .dataframe tbody tr th:only-of-type {\n",
              "        vertical-align: middle;\n",
              "    }\n",
              "\n",
              "    .dataframe tbody tr th {\n",
              "        vertical-align: top;\n",
              "    }\n",
              "\n",
              "    .dataframe thead th {\n",
              "        text-align: right;\n",
              "    }\n",
              "</style>\n",
              "<table border=\"1\" class=\"dataframe\">\n",
              "  <thead>\n",
              "    <tr style=\"text-align: right;\">\n",
              "      <th></th>\n",
              "      <th>Name</th>\n",
              "      <th>Number</th>\n",
              "      <th>Normal</th>\n",
              "      <th>Fire</th>\n",
              "      <th>Water</th>\n",
              "      <th>Electric</th>\n",
              "      <th>Grass</th>\n",
              "      <th>Ice</th>\n",
              "      <th>Fighting</th>\n",
              "      <th>Poison</th>\n",
              "      <th>Ground</th>\n",
              "      <th>Flying</th>\n",
              "      <th>Psychic</th>\n",
              "      <th>Bug</th>\n",
              "      <th>Rock</th>\n",
              "      <th>Ghost</th>\n",
              "      <th>Dragon</th>\n",
              "      <th>Dark</th>\n",
              "      <th>Steel</th>\n",
              "      <th>Fairy</th>\n",
              "    </tr>\n",
              "  </thead>\n",
              "  <tbody>\n",
              "    <tr>\n",
              "      <th>0</th>\n",
              "      <td>Bulbasaur</td>\n",
              "      <td>#001</td>\n",
              "      <td>*1</td>\n",
              "      <td>*2</td>\n",
              "      <td>*0.5</td>\n",
              "      <td>*0.5</td>\n",
              "      <td>*0.25</td>\n",
              "      <td>*2</td>\n",
              "      <td>*0.5</td>\n",
              "      <td>*1</td>\n",
              "      <td>*1</td>\n",
              "      <td>*2</td>\n",
              "      <td>*2</td>\n",
              "      <td>*1</td>\n",
              "      <td>*1</td>\n",
              "      <td>*1</td>\n",
              "      <td>*1</td>\n",
              "      <td>*1</td>\n",
              "      <td>*1</td>\n",
              "      <td>*0.5</td>\n",
              "    </tr>\n",
              "    <tr>\n",
              "      <th>1</th>\n",
              "      <td>Ivysaur</td>\n",
              "      <td>#002</td>\n",
              "      <td>*1</td>\n",
              "      <td>*2</td>\n",
              "      <td>*0.5</td>\n",
              "      <td>*0.5</td>\n",
              "      <td>*0.25</td>\n",
              "      <td>*2</td>\n",
              "      <td>*0.5</td>\n",
              "      <td>*1</td>\n",
              "      <td>*1</td>\n",
              "      <td>*2</td>\n",
              "      <td>*2</td>\n",
              "      <td>*1</td>\n",
              "      <td>*1</td>\n",
              "      <td>*1</td>\n",
              "      <td>*1</td>\n",
              "      <td>*1</td>\n",
              "      <td>*1</td>\n",
              "      <td>*0.5</td>\n",
              "    </tr>\n",
              "    <tr>\n",
              "      <th>2</th>\n",
              "      <td>Venusaur</td>\n",
              "      <td>#003</td>\n",
              "      <td>*1</td>\n",
              "      <td>*2</td>\n",
              "      <td>*0.5</td>\n",
              "      <td>*0.5</td>\n",
              "      <td>*0.25</td>\n",
              "      <td>*2</td>\n",
              "      <td>*0.5</td>\n",
              "      <td>*1</td>\n",
              "      <td>*1</td>\n",
              "      <td>*2</td>\n",
              "      <td>*2</td>\n",
              "      <td>*1</td>\n",
              "      <td>*1</td>\n",
              "      <td>*1</td>\n",
              "      <td>*1</td>\n",
              "      <td>*1</td>\n",
              "      <td>*1</td>\n",
              "      <td>*0.5</td>\n",
              "    </tr>\n",
              "    <tr>\n",
              "      <th>3</th>\n",
              "      <td>Charmander</td>\n",
              "      <td>#004</td>\n",
              "      <td>*1</td>\n",
              "      <td>*0.5</td>\n",
              "      <td>*2</td>\n",
              "      <td>*1</td>\n",
              "      <td>*0.5</td>\n",
              "      <td>*0.5</td>\n",
              "      <td>*1</td>\n",
              "      <td>*1</td>\n",
              "      <td>*2</td>\n",
              "      <td>*1</td>\n",
              "      <td>*1</td>\n",
              "      <td>*0.5</td>\n",
              "      <td>*2</td>\n",
              "      <td>*1</td>\n",
              "      <td>*1</td>\n",
              "      <td>*1</td>\n",
              "      <td>*0.5</td>\n",
              "      <td>*0.5</td>\n",
              "    </tr>\n",
              "    <tr>\n",
              "      <th>4</th>\n",
              "      <td>Charmeleon</td>\n",
              "      <td>#005</td>\n",
              "      <td>*1</td>\n",
              "      <td>*0.5</td>\n",
              "      <td>*2</td>\n",
              "      <td>*1</td>\n",
              "      <td>*0.5</td>\n",
              "      <td>*0.5</td>\n",
              "      <td>*1</td>\n",
              "      <td>*1</td>\n",
              "      <td>*2</td>\n",
              "      <td>*1</td>\n",
              "      <td>*1</td>\n",
              "      <td>*0.5</td>\n",
              "      <td>*2</td>\n",
              "      <td>*1</td>\n",
              "      <td>*1</td>\n",
              "      <td>*1</td>\n",
              "      <td>*0.5</td>\n",
              "      <td>*0.5</td>\n",
              "    </tr>\n",
              "  </tbody>\n",
              "</table>\n",
              "</div>"
            ],
            "text/plain": [
              "         Name Number Normal  Fire Water  ... Ghost Dragon Dark Steel Fairy\n",
              "0   Bulbasaur   #001     *1    *2  *0.5  ...    *1     *1   *1    *1  *0.5\n",
              "1     Ivysaur   #002     *1    *2  *0.5  ...    *1     *1   *1    *1  *0.5\n",
              "2    Venusaur   #003     *1    *2  *0.5  ...    *1     *1   *1    *1  *0.5\n",
              "3  Charmander   #004     *1  *0.5    *2  ...    *1     *1   *1  *0.5  *0.5\n",
              "4  Charmeleon   #005     *1  *0.5    *2  ...    *1     *1   *1  *0.5  *0.5\n",
              "\n",
              "[5 rows x 20 columns]"
            ]
          },
          "metadata": {
            "tags": []
          },
          "execution_count": 2
        }
      ]
    },
    {
      "cell_type": "code",
      "metadata": {
        "colab": {
          "base_uri": "https://localhost:8080/",
          "height": 195
        },
        "id": "2wl_VYSQRy8s",
        "outputId": "79426ae1-8f10-4256-d215-32d4bacad316"
      },
      "source": [
        "df.tail()"
      ],
      "execution_count": 3,
      "outputs": [
        {
          "output_type": "execute_result",
          "data": {
            "text/html": [
              "<div>\n",
              "<style scoped>\n",
              "    .dataframe tbody tr th:only-of-type {\n",
              "        vertical-align: middle;\n",
              "    }\n",
              "\n",
              "    .dataframe tbody tr th {\n",
              "        vertical-align: top;\n",
              "    }\n",
              "\n",
              "    .dataframe thead th {\n",
              "        text-align: right;\n",
              "    }\n",
              "</style>\n",
              "<table border=\"1\" class=\"dataframe\">\n",
              "  <thead>\n",
              "    <tr style=\"text-align: right;\">\n",
              "      <th></th>\n",
              "      <th>Name</th>\n",
              "      <th>Number</th>\n",
              "      <th>Normal</th>\n",
              "      <th>Fire</th>\n",
              "      <th>Water</th>\n",
              "      <th>Electric</th>\n",
              "      <th>Grass</th>\n",
              "      <th>Ice</th>\n",
              "      <th>Fighting</th>\n",
              "      <th>Poison</th>\n",
              "      <th>Ground</th>\n",
              "      <th>Flying</th>\n",
              "      <th>Psychic</th>\n",
              "      <th>Bug</th>\n",
              "      <th>Rock</th>\n",
              "      <th>Ghost</th>\n",
              "      <th>Dragon</th>\n",
              "      <th>Dark</th>\n",
              "      <th>Steel</th>\n",
              "      <th>Fairy</th>\n",
              "    </tr>\n",
              "  </thead>\n",
              "  <tbody>\n",
              "    <tr>\n",
              "      <th>571</th>\n",
              "      <td>Eternatus</td>\n",
              "      <td>#890</td>\n",
              "      <td>*1</td>\n",
              "      <td>*0.5</td>\n",
              "      <td>*0.5</td>\n",
              "      <td>*0.5</td>\n",
              "      <td>*0.25</td>\n",
              "      <td>*2</td>\n",
              "      <td>*0.5</td>\n",
              "      <td>*0.5</td>\n",
              "      <td>*2</td>\n",
              "      <td>*1</td>\n",
              "      <td>*2</td>\n",
              "      <td>*0.5</td>\n",
              "      <td>*1</td>\n",
              "      <td>*1</td>\n",
              "      <td>*2</td>\n",
              "      <td>*1</td>\n",
              "      <td>*1</td>\n",
              "      <td>*1</td>\n",
              "    </tr>\n",
              "    <tr>\n",
              "      <th>572</th>\n",
              "      <td>Kubfu</td>\n",
              "      <td>#891</td>\n",
              "      <td>*1</td>\n",
              "      <td>*1</td>\n",
              "      <td>*1</td>\n",
              "      <td>*1</td>\n",
              "      <td>*1</td>\n",
              "      <td>*1</td>\n",
              "      <td>*1</td>\n",
              "      <td>*1</td>\n",
              "      <td>*1</td>\n",
              "      <td>*2</td>\n",
              "      <td>*2</td>\n",
              "      <td>*0.5</td>\n",
              "      <td>*0.5</td>\n",
              "      <td>*1</td>\n",
              "      <td>*1</td>\n",
              "      <td>*0.5</td>\n",
              "      <td>*1</td>\n",
              "      <td>*2</td>\n",
              "    </tr>\n",
              "    <tr>\n",
              "      <th>573</th>\n",
              "      <td>Urshifu</td>\n",
              "      <td>#892</td>\n",
              "      <td>*1</td>\n",
              "      <td>*1</td>\n",
              "      <td>*1</td>\n",
              "      <td>*1</td>\n",
              "      <td>*1</td>\n",
              "      <td>*1</td>\n",
              "      <td>*2</td>\n",
              "      <td>*1</td>\n",
              "      <td>*1</td>\n",
              "      <td>*2</td>\n",
              "      <td>*0</td>\n",
              "      <td>*1</td>\n",
              "      <td>*0.5</td>\n",
              "      <td>*0.5</td>\n",
              "      <td>*1</td>\n",
              "      <td>*0.25</td>\n",
              "      <td>*1</td>\n",
              "      <td>*4</td>\n",
              "    </tr>\n",
              "    <tr>\n",
              "      <th>574</th>\n",
              "      <td>Urshifu Rapid Strike</td>\n",
              "      <td>#892</td>\n",
              "      <td>*1</td>\n",
              "      <td>*0.5</td>\n",
              "      <td>*0.5</td>\n",
              "      <td>*2</td>\n",
              "      <td>*2</td>\n",
              "      <td>*0.5</td>\n",
              "      <td>*1</td>\n",
              "      <td>*1</td>\n",
              "      <td>*1</td>\n",
              "      <td>*2</td>\n",
              "      <td>*2</td>\n",
              "      <td>*0.5</td>\n",
              "      <td>*0.5</td>\n",
              "      <td>*1</td>\n",
              "      <td>*1</td>\n",
              "      <td>*0.5</td>\n",
              "      <td>*0.5</td>\n",
              "      <td>*2</td>\n",
              "    </tr>\n",
              "    <tr>\n",
              "      <th>575</th>\n",
              "      <td>Zarude</td>\n",
              "      <td>#893</td>\n",
              "      <td>*1</td>\n",
              "      <td>*2</td>\n",
              "      <td>*0.5</td>\n",
              "      <td>*0.5</td>\n",
              "      <td>*0.5</td>\n",
              "      <td>*2</td>\n",
              "      <td>*2</td>\n",
              "      <td>*2</td>\n",
              "      <td>*0.5</td>\n",
              "      <td>*2</td>\n",
              "      <td>*0</td>\n",
              "      <td>*4</td>\n",
              "      <td>*1</td>\n",
              "      <td>*0.5</td>\n",
              "      <td>*1</td>\n",
              "      <td>*0.5</td>\n",
              "      <td>*1</td>\n",
              "      <td>*2</td>\n",
              "    </tr>\n",
              "  </tbody>\n",
              "</table>\n",
              "</div>"
            ],
            "text/plain": [
              "                     Name Number Normal  Fire  ... Dragon   Dark Steel Fairy\n",
              "571             Eternatus   #890     *1  *0.5  ...     *2     *1    *1    *1\n",
              "572                 Kubfu   #891     *1    *1  ...     *1   *0.5    *1    *2\n",
              "573               Urshifu   #892     *1    *1  ...     *1  *0.25    *1    *4\n",
              "574  Urshifu Rapid Strike   #892     *1  *0.5  ...     *1   *0.5  *0.5    *2\n",
              "575                Zarude   #893     *1    *2  ...     *1   *0.5    *1    *2\n",
              "\n",
              "[5 rows x 20 columns]"
            ]
          },
          "metadata": {
            "tags": []
          },
          "execution_count": 3
        }
      ]
    },
    {
      "cell_type": "code",
      "metadata": {
        "colab": {
          "base_uri": "https://localhost:8080/"
        },
        "id": "MJEWdaWdR6tz",
        "outputId": "ce8482aa-aa4f-4b7b-862d-b472e21ed156"
      },
      "source": [
        "import numpy as np\n",
        "x = np.eye(5,dtype=int)\n",
        "print(\"x =\\n\",x)"
      ],
      "execution_count": 4,
      "outputs": [
        {
          "output_type": "stream",
          "text": [
            "x =\n",
            " [[1 0 0 0 0]\n",
            " [0 1 0 0 0]\n",
            " [0 0 1 0 0]\n",
            " [0 0 0 1 0]\n",
            " [0 0 0 0 1]]\n"
          ],
          "name": "stdout"
        }
      ]
    },
    {
      "cell_type": "code",
      "metadata": {
        "colab": {
          "base_uri": "https://localhost:8080/"
        },
        "id": "JTkCYinCR-4Y",
        "outputId": "67ea5058-e35c-4078-9f20-85bda4a1d0b1"
      },
      "source": [
        "import numpy as np\n",
        "a = [[1, 2], [3, 4]]\n",
        "x = np.array(a)\n",
        "print(\"list to array:\\n\",x)\n",
        "a2 = x.tolist()\n",
        "print(\"array to list:\\n\",a2)\n",
        "print(a == a2)"
      ],
      "execution_count": 5,
      "outputs": [
        {
          "output_type": "stream",
          "text": [
            "list to array:\n",
            " [[1 2]\n",
            " [3 4]]\n",
            "array to list:\n",
            " [[1, 2], [3, 4]]\n",
            "True\n"
          ],
          "name": "stdout"
        }
      ]
    },
    {
      "cell_type": "code",
      "metadata": {
        "colab": {
          "base_uri": "https://localhost:8080/"
        },
        "id": "w57oIPCjSFDT",
        "outputId": "1070c6e6-b34f-496a-ac38-5095ca61584d"
      },
      "source": [
        "import numpy as np\n",
        "N=int(input())# not more than N inputs will be considered\n",
        "fvalues=list(map(float, input().split(' ')[:N]))\n",
        "F = np.array(fvalues)\n",
        "print(\"Values in Fahrenheit degrees:\")\n",
        "print(F)\n",
        "print(\"Values in  Centigrade degrees:\") \n",
        "print(5*F/9 - 5*32/9)"
      ],
      "execution_count": 6,
      "outputs": [
        {
          "output_type": "stream",
          "text": [
            "4\n",
            "4\n",
            "Values in Fahrenheit degrees:\n",
            "[4.]\n",
            "Values in  Centigrade degrees:\n",
            "[-15.55555556]\n"
          ],
          "name": "stdout"
        }
      ]
    },
    {
      "cell_type": "code",
      "metadata": {
        "colab": {
          "base_uri": "https://localhost:8080/"
        },
        "id": "k9TzxSEpSWD8",
        "outputId": "fb2438ca-623e-4d11-95e1-978e6fa06470"
      },
      "source": [
        "import numpy as np\n",
        "from numpy import linalg as la  \n",
        "R = int(input(\"Enter the number of rows:\")) \n",
        "C = int(input(\"Enter the number of columns:\"))   \n",
        "\n",
        "if R==C:\n",
        "  print(\"Enter the entries in a single line (separated by space): \") \n",
        "  entries = list(map(int, input().split()))   \n",
        "  matrix = np.array(entries).reshape(R, C) \n",
        "  print(\"Original \",R,\"x\",C,\"-D matrix\")\n",
        "  print(matrix)\n",
        "  print(\"Determinant of the said \",R,\"x\",C,\"-D matrix\")\n",
        "  print(np.linalg.det(matrix))\n",
        "else:\n",
        "  print(\"Invalid Dimensional Array Input\")"
      ],
      "execution_count": 7,
      "outputs": [
        {
          "output_type": "stream",
          "text": [
            "Enter the number of rows:3\n",
            "Enter the number of columns:3\n",
            "Enter the entries in a single line (separated by space): \n",
            "3 1 2 4 5 6 7 8 9\n",
            "Original  3 x 3 -D matrix\n",
            "[[3 1 2]\n",
            " [4 5 6]\n",
            " [7 8 9]]\n",
            "Determinant of the said  3 x 3 -D matrix\n",
            "-8.999999999999998\n"
          ],
          "name": "stdout"
        }
      ]
    },
    {
      "cell_type": "code",
      "metadata": {
        "colab": {
          "base_uri": "https://localhost:8080/"
        },
        "id": "AniU3rctSqQL",
        "outputId": "8cf86106-8e8c-41f7-cc3e-2ae7ef84a9d2"
      },
      "source": [
        "import numpy as np\n",
        "x = np.random.random((5,5))\n",
        "print(\"Original Array:\")\n",
        "print(x) \n",
        "xmin, xmax = x.min(), x.max()\n",
        "print(\"Minimum and Maximum Values:\")\n",
        "print(xmin, xmax)"
      ],
      "execution_count": 8,
      "outputs": [
        {
          "output_type": "stream",
          "text": [
            "Original Array:\n",
            "[[4.91911075e-02 9.68952895e-01 3.49188062e-01 2.86527354e-01\n",
            "  4.60941886e-01]\n",
            " [4.80477943e-01 1.10893979e-01 2.58842346e-01 4.31129655e-01\n",
            "  2.93253030e-01]\n",
            " [6.62303320e-01 6.20741636e-01 2.28582070e-01 7.84496764e-01\n",
            "  9.43361094e-01]\n",
            " [4.37636753e-01 7.11135703e-02 3.12897390e-01 3.98340545e-01\n",
            "  6.54306838e-01]\n",
            " [7.31169358e-04 3.11896010e-01 6.83396194e-01 3.60863159e-01\n",
            "  8.90821859e-01]]\n",
            "Minimum and Maximum Values:\n",
            "0.0007311693582385814 0.9689528949263392\n"
          ],
          "name": "stdout"
        }
      ]
    },
    {
      "cell_type": "code",
      "metadata": {
        "colab": {
          "base_uri": "https://localhost:8080/"
        },
        "id": "6AuUDSeOSx7-",
        "outputId": "81dc7335-3e49-45da-ca75-a2017b438fb9"
      },
      "source": [
        "import numpy as np\n",
        "nums =  np.random.rand(15)\n",
        "print(\"Original array:\")\n",
        "print(nums)\n",
        "print(\"\\nSorted first 5 elements:\")\n",
        "print(nums[np.argpartition(nums,range(8))])"
      ],
      "execution_count": 9,
      "outputs": [
        {
          "output_type": "stream",
          "text": [
            "Original array:\n",
            "[0.666217   0.17326733 0.19953426 0.44492549 0.6567555  0.72520908\n",
            " 0.73665299 0.63957318 0.53800475 0.89650619 0.31657635 0.54104519\n",
            " 0.43870951 0.21729243 0.39529491]\n",
            "\n",
            "Sorted first 5 elements:\n",
            "[0.17326733 0.19953426 0.21729243 0.31657635 0.39529491 0.43870951\n",
            " 0.44492549 0.53800475 0.63957318 0.89650619 0.73665299 0.54104519\n",
            " 0.72520908 0.666217   0.6567555 ]\n"
          ],
          "name": "stdout"
        }
      ]
    },
    {
      "cell_type": "code",
      "metadata": {
        "colab": {
          "base_uri": "https://localhost:8080/"
        },
        "id": "2gBLjGfVTD3T",
        "outputId": "4ab6178e-761f-4fe8-f2e5-8ba36076e5a2"
      },
      "source": [
        "import numpy as np\n",
        "x = np.array([[1,2,3], [4,5,6]])\n",
        "print(\"Original array: \")\n",
        "print(x)\n",
        "print(\"Cumulative sum of the elements along a given axis:\")\n",
        "r = np.cumsum(x)\n",
        "print(r)\n",
        "print(\"\\nSum over rows for each of the 3 columns:\")\n",
        "r = np.cumsum(x,axis=0) \n",
        "print(r)\n",
        "print(\"\\nSum over columns for each of the 2 rows:\")\n",
        "r = np.cumsum(x,axis=1) \n",
        "print(r)"
      ],
      "execution_count": 10,
      "outputs": [
        {
          "output_type": "stream",
          "text": [
            "Original array: \n",
            "[[1 2 3]\n",
            " [4 5 6]]\n",
            "Cumulative sum of the elements along a given axis:\n",
            "[ 1  3  6 10 15 21]\n",
            "\n",
            "Sum over rows for each of the 3 columns:\n",
            "[[1 2 3]\n",
            " [5 7 9]]\n",
            "\n",
            "Sum over columns for each of the 2 rows:\n",
            "[[ 1  3  6]\n",
            " [ 4  9 15]]\n"
          ],
          "name": "stdout"
        }
      ]
    },
    {
      "cell_type": "code",
      "metadata": {
        "colab": {
          "base_uri": "https://localhost:8080/"
        },
        "id": "l4KMVuwNTiWd",
        "outputId": "331a987f-72ea-485e-ba49-df563e213d84"
      },
      "source": [
        "import numpy as np\n",
        "yesterday = np.datetime64('today', 'D') - np.timedelta64(1, 'D')\n",
        "print(\"Yestraday: \",yesterday)\n",
        "today     = np.datetime64('today', 'D')\n",
        "print(\"Today: \",today)\n",
        "tomorrow  = np.datetime64('today', 'D') + np.timedelta64(1, 'D')\n",
        "print(\"Tomorrow: \",tomorrow)"
      ],
      "execution_count": 11,
      "outputs": [
        {
          "output_type": "stream",
          "text": [
            "Yestraday:  2020-11-20\n",
            "Today:  2020-11-21\n",
            "Tomorrow:  2020-11-22\n"
          ],
          "name": "stdout"
        }
      ]
    },
    {
      "cell_type": "code",
      "metadata": {
        "colab": {
          "base_uri": "https://localhost:8080/"
        },
        "id": "iUZefk2PTpCm",
        "outputId": "17bfb520-f86b-4856-e675-db157ed4b235"
      },
      "source": [
        "import numpy as np\n",
        "x = np.array([' python exercises ', ' PHP  ', ' java  ', '  C++'], dtype=np.str)\n",
        "print(\"Original Array:\")\n",
        "print(x)\n",
        "stripped = np.char.strip(x)\n",
        "print(\"\\nRemove the leading and trailing whitespaces: \", stripped)"
      ],
      "execution_count": 12,
      "outputs": [
        {
          "output_type": "stream",
          "text": [
            "Original Array:\n",
            "[' python exercises ' ' PHP  ' ' java  ' '  C++']\n",
            "\n",
            "Remove the leading and trailing whitespaces:  ['python exercises' 'PHP' 'java' 'C++']\n"
          ],
          "name": "stdout"
        }
      ]
    },
    {
      "cell_type": "code",
      "metadata": {
        "colab": {
          "base_uri": "https://localhost:8080/"
        },
        "id": "inpVrwr_UTcT",
        "outputId": "a1fcaa59-bf00-42be-ba33-ac5142a73e0c"
      },
      "source": [
        "import numpy as np\n",
        "a=np.array([(1,2,3),(4,5,6)])\n",
        "print(a)"
      ],
      "execution_count": 14,
      "outputs": [
        {
          "output_type": "stream",
          "text": [
            "[[1 2 3]\n",
            " [4 5 6]]\n"
          ],
          "name": "stdout"
        }
      ]
    },
    {
      "cell_type": "code",
      "metadata": {
        "colab": {
          "base_uri": "https://localhost:8080/"
        },
        "id": "s1CrjIOUU4lE",
        "outputId": "61452627-fe99-45f6-f9ed-7844b7a11608"
      },
      "source": [
        "import pandas as pd\n",
        "df = pd.DataFrame({'X':[78,85,96,80,86], 'Y':[84,94,89,83,86],'Z':[86,97,96,72,83]});\n",
        "print(df)"
      ],
      "execution_count": 15,
      "outputs": [
        {
          "output_type": "stream",
          "text": [
            "    X   Y   Z\n",
            "0  78  84  86\n",
            "1  85  94  97\n",
            "2  96  89  96\n",
            "3  80  83  72\n",
            "4  86  86  83\n"
          ],
          "name": "stdout"
        }
      ]
    },
    {
      "cell_type": "code",
      "metadata": {
        "colab": {
          "base_uri": "https://localhost:8080/"
        },
        "id": "6ohzTTj-XP5b",
        "outputId": "f3031af3-9ffa-4f50-9a5f-f73f452ffba7"
      },
      "source": [
        "import pandas as pd\n",
        "s = pd.Series([2, 4, 6, 8, 10])\n",
        "print(s)"
      ],
      "execution_count": 16,
      "outputs": [
        {
          "output_type": "stream",
          "text": [
            "0     2\n",
            "1     4\n",
            "2     6\n",
            "3     8\n",
            "4    10\n",
            "dtype: int64\n"
          ],
          "name": "stdout"
        }
      ]
    },
    {
      "cell_type": "code",
      "metadata": {
        "colab": {
          "base_uri": "https://localhost:8080/"
        },
        "id": "o7wXPnq5XQG2",
        "outputId": "bdc4a2e0-353f-4e17-f44f-cd27e9c9762d"
      },
      "source": [
        "import pandas as pd\n",
        "ds1 = pd.Series([2, 4, 6, 8, 10])\n",
        "ds2 = pd.Series([1, 3, 5, 7, 9])\n",
        "ds = ds1 + ds2\n",
        "print(\"Add two Series:\")\n",
        "print(ds)\n",
        "print(\"Subtract two Series:\")\n",
        "ds = ds1 - ds2\n",
        "print(ds)\n",
        "print(\"Multiply two Series:\")\n",
        "ds = ds1 * ds2\n",
        "print(ds)\n",
        "print(\"Divide Series1 by Series2:\")\n",
        "ds = ds1 / ds2\n",
        "print(ds)\n"
      ],
      "execution_count": 17,
      "outputs": [
        {
          "output_type": "stream",
          "text": [
            "Add two Series:\n",
            "0     3\n",
            "1     7\n",
            "2    11\n",
            "3    15\n",
            "4    19\n",
            "dtype: int64\n",
            "Subtract two Series:\n",
            "0    1\n",
            "1    1\n",
            "2    1\n",
            "3    1\n",
            "4    1\n",
            "dtype: int64\n",
            "Multiply two Series:\n",
            "0     2\n",
            "1    12\n",
            "2    30\n",
            "3    56\n",
            "4    90\n",
            "dtype: int64\n",
            "Divide Series1 by Series2:\n",
            "0    2.000000\n",
            "1    1.333333\n",
            "2    1.200000\n",
            "3    1.142857\n",
            "4    1.111111\n",
            "dtype: float64\n"
          ],
          "name": "stdout"
        }
      ]
    },
    {
      "cell_type": "code",
      "metadata": {
        "colab": {
          "base_uri": "https://localhost:8080/"
        },
        "id": "tDaQ-1e5Y_Vk",
        "outputId": "dbab6db8-842e-4a00-9de7-ebefaadf367d"
      },
      "source": [
        "import pandas as pd\n",
        "import numpy as np\n",
        "exam_data = [{'name':'Anastasia', 'score':12.5}, {'name':'Dima','score':9}, {'name':'Katherine','score':16.5}]\n",
        "df = pd.DataFrame(exam_data)\n",
        "for index, row in df.iterrows():\n",
        "    print(row['name'], row['score'])"
      ],
      "execution_count": 18,
      "outputs": [
        {
          "output_type": "stream",
          "text": [
            "Anastasia 12.5\n",
            "Dima 9.0\n",
            "Katherine 16.5\n"
          ],
          "name": "stdout"
        }
      ]
    },
    {
      "cell_type": "code",
      "metadata": {
        "colab": {
          "base_uri": "https://localhost:8080/"
        },
        "id": "_qVTLXZxZZMv",
        "outputId": "693da12f-d73c-4f79-9a1e-0693face2734"
      },
      "source": [
        "import pandas as pd\n",
        "df1 = pd.DataFrame({'A': [None, 0, None], 'B': [3, 4, 5]})\n",
        "df2 = pd.DataFrame({'A': [1, 1, 3], 'B': [3, None, 3]})\n",
        "df1.combine_first(df2)\n",
        "print(\"Original DataFrames:\")\n",
        "print(df1)\n",
        "print(\"--------------------\")\n",
        "print(df2)\n",
        "print(\"\\nMerge two dataframes with different columns:\")\n",
        "result = df1.combine_first(df2)\n",
        "print(result)"
      ],
      "execution_count": 19,
      "outputs": [
        {
          "output_type": "stream",
          "text": [
            "Original DataFrames:\n",
            "     A  B\n",
            "0  NaN  3\n",
            "1  0.0  4\n",
            "2  NaN  5\n",
            "--------------------\n",
            "   A    B\n",
            "0  1  3.0\n",
            "1  1  NaN\n",
            "2  3  3.0\n",
            "\n",
            "Merge two dataframes with different columns:\n",
            "     A  B\n",
            "0  1.0  3\n",
            "1  0.0  4\n",
            "2  3.0  5\n"
          ],
          "name": "stdout"
        }
      ]
    },
    {
      "cell_type": "code",
      "metadata": {
        "colab": {
          "base_uri": "https://localhost:8080/"
        },
        "id": "62CyjqIob2_f",
        "outputId": "50cda0cc-3d55-4f97-c967-b3d13c656281"
      },
      "source": [
        "import datetime\n",
        "from datetime import datetime\n",
        "print(\"Datetime object for Jan 11 2012:\")\n",
        "print(datetime(2012, 1, 11))\n",
        "print(\"\\nSpecific date and time of 9:20 pm\") \n",
        "print(datetime(2011, 1, 11, 21, 20))\n",
        "print(\"\\nLocal date and time:\")\n",
        "print(datetime.now())\n",
        "print(\"\\nA date without time: \")\n",
        "print(datetime.date(datetime(2012, 5, 22)))\n",
        "print(\"\\nCurrent date:\")\n",
        "print(datetime.now().date())\n",
        "print(\"\\nTime from a datetime:\")\n",
        "print(datetime.time(datetime(2012, 12, 15, 18, 12)))\n",
        "print(\"\\nCurrent local time:\") \n",
        "print(datetime.now().time())"
      ],
      "execution_count": 21,
      "outputs": [
        {
          "output_type": "stream",
          "text": [
            "Datetime object for Jan 11 2012:\n",
            "2012-01-11 00:00:00\n",
            "\n",
            "Specific date and time of 9:20 pm\n",
            "2011-01-11 21:20:00\n",
            "\n",
            "Local date and time:\n",
            "2020-11-21 15:32:34.795727\n",
            "\n",
            "A date without time: \n",
            "2012-05-22\n",
            "\n",
            "Current date:\n",
            "2020-11-21\n",
            "\n",
            "Time from a datetime:\n",
            "18:12:00\n",
            "\n",
            "Current local time:\n",
            "15:32:34.796219\n"
          ],
          "name": "stdout"
        }
      ]
    },
    {
      "cell_type": "code",
      "metadata": {
        "colab": {
          "base_uri": "https://localhost:8080/"
        },
        "id": "c8rw-Oytb9qh",
        "outputId": "465dffc4-be2e-446d-dfec-5307d7b8d2d8"
      },
      "source": [
        "import pandas as pd\n",
        "pd.set_option('display.max_rows', None)\n",
        "#pd.set_option('display.max_columns', None)\n",
        "df = pd.DataFrame({\n",
        "'ord_no':[70001,70009,70002,70004,70007,70005,70008,70010,70003,70012,70011,70013],\n",
        "'purch_amt':[150.5,270.65,65.26,110.5,948.5,2400.6,5760,1983.43,2480.4,250.45, 75.29,3045.6],\n",
        "'ord_date': ['2012-10-05','2012-09-10','2012-10-05','2012-08-17','2012-09-10','2012-07-27','2012-09-10','2012-10-10','2012-10-10','2012-06-27','2012-08-17','2012-04-25'],\n",
        "'customer_id':[3005,3001,3002,3009,3005,3007,3002,3004,3009,3008,3003,3002],\n",
        "'salesman_id': [5002,5005,5001,5003,5002,5001,5001,5004,5003,5002,5004,5001]})\n",
        "print(\"Original Orders DataFrame:\")\n",
        "print(df)\n",
        "print(\"\\nGroupby to find first order date for each group(salesman_id):\")\n",
        "result = df.groupby('salesman_id')['ord_date'].min()\n",
        "print(result)"
      ],
      "execution_count": 22,
      "outputs": [
        {
          "output_type": "stream",
          "text": [
            "Original Orders DataFrame:\n",
            "    ord_no  purch_amt    ord_date  customer_id  salesman_id\n",
            "0    70001     150.50  2012-10-05         3005         5002\n",
            "1    70009     270.65  2012-09-10         3001         5005\n",
            "2    70002      65.26  2012-10-05         3002         5001\n",
            "3    70004     110.50  2012-08-17         3009         5003\n",
            "4    70007     948.50  2012-09-10         3005         5002\n",
            "5    70005    2400.60  2012-07-27         3007         5001\n",
            "6    70008    5760.00  2012-09-10         3002         5001\n",
            "7    70010    1983.43  2012-10-10         3004         5004\n",
            "8    70003    2480.40  2012-10-10         3009         5003\n",
            "9    70012     250.45  2012-06-27         3008         5002\n",
            "10   70011      75.29  2012-08-17         3003         5004\n",
            "11   70013    3045.60  2012-04-25         3002         5001\n",
            "\n",
            "Groupby to find first order date for each group(salesman_id):\n",
            "salesman_id\n",
            "5001    2012-04-25\n",
            "5002    2012-06-27\n",
            "5003    2012-08-17\n",
            "5004    2012-08-17\n",
            "5005    2012-09-10\n",
            "Name: ord_date, dtype: object\n"
          ],
          "name": "stdout"
        }
      ]
    },
    {
      "cell_type": "code",
      "metadata": {
        "colab": {
          "base_uri": "https://localhost:8080/",
          "height": 474
        },
        "id": "qDl2zT1scAWw",
        "outputId": "3a5f41c8-ea1d-4e9b-b0fb-b7f372acdff1"
      },
      "source": [
        "import pandas as pd\n",
        "import numpy as np\n",
        "np.random.seed(24)\n",
        "df = pd.DataFrame({'A': np.linspace(1, 10, 10)})\n",
        "df = pd.concat([df, pd.DataFrame(np.random.randn(10, 4), columns=list('BCDE'))],\n",
        "               axis=1)\n",
        "df.iloc[0, 2] = np.nan\n",
        "df.iloc[3, 3] = np.nan\n",
        "df.iloc[4, 1] = np.nan\n",
        "df.iloc[9, 4] = np.nan\n",
        "print(\"Original array:\")\n",
        "print(df)\n",
        "print(\"\\nBar charts in dataframe:\")\n",
        "df.style.bar(subset=['B', 'C'], color='#d65f5f')"
      ],
      "execution_count": 23,
      "outputs": [
        {
          "output_type": "stream",
          "text": [
            "Original array:\n",
            "      A         B         C         D         E\n",
            "0   1.0  1.329212       NaN -0.316280 -0.990810\n",
            "1   2.0 -1.070816 -1.438713  0.564417  0.295722\n",
            "2   3.0 -1.626404  0.219565  0.678805  1.889273\n",
            "3   4.0  0.961538  0.104011       NaN  0.850229\n",
            "4   5.0       NaN  1.057737  0.165562  0.515018\n",
            "5   6.0 -1.336936  0.562861  1.392855 -0.063328\n",
            "6   7.0  0.121668  1.207603 -0.002040  1.627796\n",
            "7   8.0  0.354493  1.037528 -0.385684  0.519818\n",
            "8   9.0  1.686583 -1.325963  1.428984 -2.089354\n",
            "9  10.0 -0.129820  0.631523 -0.586538       NaN\n",
            "\n",
            "Bar charts in dataframe:\n"
          ],
          "name": "stdout"
        },
        {
          "output_type": "execute_result",
          "data": {
            "text/html": [
              "<style  type=\"text/css\" >\n",
              "#T_f941a6e2_2c0e_11eb_a286_0242ac1c0002row0_col1{\n",
              "            width:  10em;\n",
              "             height:  80%;\n",
              "            background:  linear-gradient(90deg,#d65f5f 89.2%, transparent 89.2%);\n",
              "        }#T_f941a6e2_2c0e_11eb_a286_0242ac1c0002row1_col1{\n",
              "            width:  10em;\n",
              "             height:  80%;\n",
              "            background:  linear-gradient(90deg,#d65f5f 16.8%, transparent 16.8%);\n",
              "        }#T_f941a6e2_2c0e_11eb_a286_0242ac1c0002row1_col2,#T_f941a6e2_2c0e_11eb_a286_0242ac1c0002row2_col1{\n",
              "            width:  10em;\n",
              "             height:  80%;\n",
              "        }#T_f941a6e2_2c0e_11eb_a286_0242ac1c0002row2_col2{\n",
              "            width:  10em;\n",
              "             height:  80%;\n",
              "            background:  linear-gradient(90deg,#d65f5f 62.7%, transparent 62.7%);\n",
              "        }#T_f941a6e2_2c0e_11eb_a286_0242ac1c0002row3_col1{\n",
              "            width:  10em;\n",
              "             height:  80%;\n",
              "            background:  linear-gradient(90deg,#d65f5f 78.1%, transparent 78.1%);\n",
              "        }#T_f941a6e2_2c0e_11eb_a286_0242ac1c0002row3_col2{\n",
              "            width:  10em;\n",
              "             height:  80%;\n",
              "            background:  linear-gradient(90deg,#d65f5f 58.3%, transparent 58.3%);\n",
              "        }#T_f941a6e2_2c0e_11eb_a286_0242ac1c0002row4_col2{\n",
              "            width:  10em;\n",
              "             height:  80%;\n",
              "            background:  linear-gradient(90deg,#d65f5f 94.3%, transparent 94.3%);\n",
              "        }#T_f941a6e2_2c0e_11eb_a286_0242ac1c0002row5_col1{\n",
              "            width:  10em;\n",
              "             height:  80%;\n",
              "            background:  linear-gradient(90deg,#d65f5f 8.7%, transparent 8.7%);\n",
              "        }#T_f941a6e2_2c0e_11eb_a286_0242ac1c0002row5_col2{\n",
              "            width:  10em;\n",
              "             height:  80%;\n",
              "            background:  linear-gradient(90deg,#d65f5f 75.6%, transparent 75.6%);\n",
              "        }#T_f941a6e2_2c0e_11eb_a286_0242ac1c0002row6_col1{\n",
              "            width:  10em;\n",
              "             height:  80%;\n",
              "            background:  linear-gradient(90deg,#d65f5f 52.8%, transparent 52.8%);\n",
              "        }#T_f941a6e2_2c0e_11eb_a286_0242ac1c0002row6_col2,#T_f941a6e2_2c0e_11eb_a286_0242ac1c0002row8_col1{\n",
              "            width:  10em;\n",
              "             height:  80%;\n",
              "            background:  linear-gradient(90deg,#d65f5f 100.0%, transparent 100.0%);\n",
              "        }#T_f941a6e2_2c0e_11eb_a286_0242ac1c0002row7_col1{\n",
              "            width:  10em;\n",
              "             height:  80%;\n",
              "            background:  linear-gradient(90deg,#d65f5f 59.8%, transparent 59.8%);\n",
              "        }#T_f941a6e2_2c0e_11eb_a286_0242ac1c0002row7_col2{\n",
              "            width:  10em;\n",
              "             height:  80%;\n",
              "            background:  linear-gradient(90deg,#d65f5f 93.6%, transparent 93.6%);\n",
              "        }#T_f941a6e2_2c0e_11eb_a286_0242ac1c0002row8_col2{\n",
              "            width:  10em;\n",
              "             height:  80%;\n",
              "            background:  linear-gradient(90deg,#d65f5f 4.3%, transparent 4.3%);\n",
              "        }#T_f941a6e2_2c0e_11eb_a286_0242ac1c0002row9_col1{\n",
              "            width:  10em;\n",
              "             height:  80%;\n",
              "            background:  linear-gradient(90deg,#d65f5f 45.2%, transparent 45.2%);\n",
              "        }#T_f941a6e2_2c0e_11eb_a286_0242ac1c0002row9_col2{\n",
              "            width:  10em;\n",
              "             height:  80%;\n",
              "            background:  linear-gradient(90deg,#d65f5f 78.2%, transparent 78.2%);\n",
              "        }</style><table id=\"T_f941a6e2_2c0e_11eb_a286_0242ac1c0002\" ><thead>    <tr>        <th class=\"blank level0\" ></th>        <th class=\"col_heading level0 col0\" >A</th>        <th class=\"col_heading level0 col1\" >B</th>        <th class=\"col_heading level0 col2\" >C</th>        <th class=\"col_heading level0 col3\" >D</th>        <th class=\"col_heading level0 col4\" >E</th>    </tr></thead><tbody>\n",
              "                <tr>\n",
              "                        <th id=\"T_f941a6e2_2c0e_11eb_a286_0242ac1c0002level0_row0\" class=\"row_heading level0 row0\" >0</th>\n",
              "                        <td id=\"T_f941a6e2_2c0e_11eb_a286_0242ac1c0002row0_col0\" class=\"data row0 col0\" >1.000000</td>\n",
              "                        <td id=\"T_f941a6e2_2c0e_11eb_a286_0242ac1c0002row0_col1\" class=\"data row0 col1\" >1.329212</td>\n",
              "                        <td id=\"T_f941a6e2_2c0e_11eb_a286_0242ac1c0002row0_col2\" class=\"data row0 col2\" >nan</td>\n",
              "                        <td id=\"T_f941a6e2_2c0e_11eb_a286_0242ac1c0002row0_col3\" class=\"data row0 col3\" >-0.316280</td>\n",
              "                        <td id=\"T_f941a6e2_2c0e_11eb_a286_0242ac1c0002row0_col4\" class=\"data row0 col4\" >-0.990810</td>\n",
              "            </tr>\n",
              "            <tr>\n",
              "                        <th id=\"T_f941a6e2_2c0e_11eb_a286_0242ac1c0002level0_row1\" class=\"row_heading level0 row1\" >1</th>\n",
              "                        <td id=\"T_f941a6e2_2c0e_11eb_a286_0242ac1c0002row1_col0\" class=\"data row1 col0\" >2.000000</td>\n",
              "                        <td id=\"T_f941a6e2_2c0e_11eb_a286_0242ac1c0002row1_col1\" class=\"data row1 col1\" >-1.070816</td>\n",
              "                        <td id=\"T_f941a6e2_2c0e_11eb_a286_0242ac1c0002row1_col2\" class=\"data row1 col2\" >-1.438713</td>\n",
              "                        <td id=\"T_f941a6e2_2c0e_11eb_a286_0242ac1c0002row1_col3\" class=\"data row1 col3\" >0.564417</td>\n",
              "                        <td id=\"T_f941a6e2_2c0e_11eb_a286_0242ac1c0002row1_col4\" class=\"data row1 col4\" >0.295722</td>\n",
              "            </tr>\n",
              "            <tr>\n",
              "                        <th id=\"T_f941a6e2_2c0e_11eb_a286_0242ac1c0002level0_row2\" class=\"row_heading level0 row2\" >2</th>\n",
              "                        <td id=\"T_f941a6e2_2c0e_11eb_a286_0242ac1c0002row2_col0\" class=\"data row2 col0\" >3.000000</td>\n",
              "                        <td id=\"T_f941a6e2_2c0e_11eb_a286_0242ac1c0002row2_col1\" class=\"data row2 col1\" >-1.626404</td>\n",
              "                        <td id=\"T_f941a6e2_2c0e_11eb_a286_0242ac1c0002row2_col2\" class=\"data row2 col2\" >0.219565</td>\n",
              "                        <td id=\"T_f941a6e2_2c0e_11eb_a286_0242ac1c0002row2_col3\" class=\"data row2 col3\" >0.678805</td>\n",
              "                        <td id=\"T_f941a6e2_2c0e_11eb_a286_0242ac1c0002row2_col4\" class=\"data row2 col4\" >1.889273</td>\n",
              "            </tr>\n",
              "            <tr>\n",
              "                        <th id=\"T_f941a6e2_2c0e_11eb_a286_0242ac1c0002level0_row3\" class=\"row_heading level0 row3\" >3</th>\n",
              "                        <td id=\"T_f941a6e2_2c0e_11eb_a286_0242ac1c0002row3_col0\" class=\"data row3 col0\" >4.000000</td>\n",
              "                        <td id=\"T_f941a6e2_2c0e_11eb_a286_0242ac1c0002row3_col1\" class=\"data row3 col1\" >0.961538</td>\n",
              "                        <td id=\"T_f941a6e2_2c0e_11eb_a286_0242ac1c0002row3_col2\" class=\"data row3 col2\" >0.104011</td>\n",
              "                        <td id=\"T_f941a6e2_2c0e_11eb_a286_0242ac1c0002row3_col3\" class=\"data row3 col3\" >nan</td>\n",
              "                        <td id=\"T_f941a6e2_2c0e_11eb_a286_0242ac1c0002row3_col4\" class=\"data row3 col4\" >0.850229</td>\n",
              "            </tr>\n",
              "            <tr>\n",
              "                        <th id=\"T_f941a6e2_2c0e_11eb_a286_0242ac1c0002level0_row4\" class=\"row_heading level0 row4\" >4</th>\n",
              "                        <td id=\"T_f941a6e2_2c0e_11eb_a286_0242ac1c0002row4_col0\" class=\"data row4 col0\" >5.000000</td>\n",
              "                        <td id=\"T_f941a6e2_2c0e_11eb_a286_0242ac1c0002row4_col1\" class=\"data row4 col1\" >nan</td>\n",
              "                        <td id=\"T_f941a6e2_2c0e_11eb_a286_0242ac1c0002row4_col2\" class=\"data row4 col2\" >1.057737</td>\n",
              "                        <td id=\"T_f941a6e2_2c0e_11eb_a286_0242ac1c0002row4_col3\" class=\"data row4 col3\" >0.165562</td>\n",
              "                        <td id=\"T_f941a6e2_2c0e_11eb_a286_0242ac1c0002row4_col4\" class=\"data row4 col4\" >0.515018</td>\n",
              "            </tr>\n",
              "            <tr>\n",
              "                        <th id=\"T_f941a6e2_2c0e_11eb_a286_0242ac1c0002level0_row5\" class=\"row_heading level0 row5\" >5</th>\n",
              "                        <td id=\"T_f941a6e2_2c0e_11eb_a286_0242ac1c0002row5_col0\" class=\"data row5 col0\" >6.000000</td>\n",
              "                        <td id=\"T_f941a6e2_2c0e_11eb_a286_0242ac1c0002row5_col1\" class=\"data row5 col1\" >-1.336936</td>\n",
              "                        <td id=\"T_f941a6e2_2c0e_11eb_a286_0242ac1c0002row5_col2\" class=\"data row5 col2\" >0.562861</td>\n",
              "                        <td id=\"T_f941a6e2_2c0e_11eb_a286_0242ac1c0002row5_col3\" class=\"data row5 col3\" >1.392855</td>\n",
              "                        <td id=\"T_f941a6e2_2c0e_11eb_a286_0242ac1c0002row5_col4\" class=\"data row5 col4\" >-0.063328</td>\n",
              "            </tr>\n",
              "            <tr>\n",
              "                        <th id=\"T_f941a6e2_2c0e_11eb_a286_0242ac1c0002level0_row6\" class=\"row_heading level0 row6\" >6</th>\n",
              "                        <td id=\"T_f941a6e2_2c0e_11eb_a286_0242ac1c0002row6_col0\" class=\"data row6 col0\" >7.000000</td>\n",
              "                        <td id=\"T_f941a6e2_2c0e_11eb_a286_0242ac1c0002row6_col1\" class=\"data row6 col1\" >0.121668</td>\n",
              "                        <td id=\"T_f941a6e2_2c0e_11eb_a286_0242ac1c0002row6_col2\" class=\"data row6 col2\" >1.207603</td>\n",
              "                        <td id=\"T_f941a6e2_2c0e_11eb_a286_0242ac1c0002row6_col3\" class=\"data row6 col3\" >-0.002040</td>\n",
              "                        <td id=\"T_f941a6e2_2c0e_11eb_a286_0242ac1c0002row6_col4\" class=\"data row6 col4\" >1.627796</td>\n",
              "            </tr>\n",
              "            <tr>\n",
              "                        <th id=\"T_f941a6e2_2c0e_11eb_a286_0242ac1c0002level0_row7\" class=\"row_heading level0 row7\" >7</th>\n",
              "                        <td id=\"T_f941a6e2_2c0e_11eb_a286_0242ac1c0002row7_col0\" class=\"data row7 col0\" >8.000000</td>\n",
              "                        <td id=\"T_f941a6e2_2c0e_11eb_a286_0242ac1c0002row7_col1\" class=\"data row7 col1\" >0.354493</td>\n",
              "                        <td id=\"T_f941a6e2_2c0e_11eb_a286_0242ac1c0002row7_col2\" class=\"data row7 col2\" >1.037528</td>\n",
              "                        <td id=\"T_f941a6e2_2c0e_11eb_a286_0242ac1c0002row7_col3\" class=\"data row7 col3\" >-0.385684</td>\n",
              "                        <td id=\"T_f941a6e2_2c0e_11eb_a286_0242ac1c0002row7_col4\" class=\"data row7 col4\" >0.519818</td>\n",
              "            </tr>\n",
              "            <tr>\n",
              "                        <th id=\"T_f941a6e2_2c0e_11eb_a286_0242ac1c0002level0_row8\" class=\"row_heading level0 row8\" >8</th>\n",
              "                        <td id=\"T_f941a6e2_2c0e_11eb_a286_0242ac1c0002row8_col0\" class=\"data row8 col0\" >9.000000</td>\n",
              "                        <td id=\"T_f941a6e2_2c0e_11eb_a286_0242ac1c0002row8_col1\" class=\"data row8 col1\" >1.686583</td>\n",
              "                        <td id=\"T_f941a6e2_2c0e_11eb_a286_0242ac1c0002row8_col2\" class=\"data row8 col2\" >-1.325963</td>\n",
              "                        <td id=\"T_f941a6e2_2c0e_11eb_a286_0242ac1c0002row8_col3\" class=\"data row8 col3\" >1.428984</td>\n",
              "                        <td id=\"T_f941a6e2_2c0e_11eb_a286_0242ac1c0002row8_col4\" class=\"data row8 col4\" >-2.089354</td>\n",
              "            </tr>\n",
              "            <tr>\n",
              "                        <th id=\"T_f941a6e2_2c0e_11eb_a286_0242ac1c0002level0_row9\" class=\"row_heading level0 row9\" >9</th>\n",
              "                        <td id=\"T_f941a6e2_2c0e_11eb_a286_0242ac1c0002row9_col0\" class=\"data row9 col0\" >10.000000</td>\n",
              "                        <td id=\"T_f941a6e2_2c0e_11eb_a286_0242ac1c0002row9_col1\" class=\"data row9 col1\" >-0.129820</td>\n",
              "                        <td id=\"T_f941a6e2_2c0e_11eb_a286_0242ac1c0002row9_col2\" class=\"data row9 col2\" >0.631523</td>\n",
              "                        <td id=\"T_f941a6e2_2c0e_11eb_a286_0242ac1c0002row9_col3\" class=\"data row9 col3\" >-0.586538</td>\n",
              "                        <td id=\"T_f941a6e2_2c0e_11eb_a286_0242ac1c0002row9_col4\" class=\"data row9 col4\" >nan</td>\n",
              "            </tr>\n",
              "    </tbody></table>"
            ],
            "text/plain": [
              "<pandas.io.formats.style.Styler at 0x7f44be1355c0>"
            ]
          },
          "metadata": {
            "tags": []
          },
          "execution_count": 23
        }
      ]
    },
    {
      "cell_type": "code",
      "metadata": {
        "colab": {
          "base_uri": "https://localhost:8080/"
        },
        "id": "wxH6SwfScn6H",
        "outputId": "6ec522ef-4e4c-4f47-aea3-cec981807e09"
      },
      "source": [
        "import pandas as pd\n",
        "df = pd.DataFrame({\n",
        "    'school_code': ['s001','s002','s003','s001','s002','s004'],\n",
        "    'class': ['V', 'V', 'VI', 'VI', 'V', 'VI'],\n",
        "    'name': ['Alberto Franco','Gino Mcneill','Ryan Parkes', 'Eesha Hinton', 'Gino Mcneill', 'David Parkes'],\n",
        "    'date_of_birth': ['15/05/2002','17/05/2002','16/02/1999','25/09/1998','11/05/2002','15/09/1997'],\n",
        "    'weight': [35, 37, 33, 30, 31, 32]})\n",
        "     \n",
        "print(\"Original DataFrame:\")\n",
        "print(df)\n",
        "print(\"\\nDefault Index Range:\")\n",
        "print(df.index)\n",
        "df.index += 10 \n",
        "print(\"\\nNew Index Range:\")\n",
        "print(df.index)\n",
        "print(\"\\nDataFrame with new index:\")\n",
        "print(df)"
      ],
      "execution_count": 24,
      "outputs": [
        {
          "output_type": "stream",
          "text": [
            "Original DataFrame:\n",
            "  school_code class            name date_of_birth  weight\n",
            "0        s001     V  Alberto Franco    15/05/2002      35\n",
            "1        s002     V    Gino Mcneill    17/05/2002      37\n",
            "2        s003    VI     Ryan Parkes    16/02/1999      33\n",
            "3        s001    VI    Eesha Hinton    25/09/1998      30\n",
            "4        s002     V    Gino Mcneill    11/05/2002      31\n",
            "5        s004    VI    David Parkes    15/09/1997      32\n",
            "\n",
            "Default Index Range:\n",
            "RangeIndex(start=0, stop=6, step=1)\n",
            "\n",
            "New Index Range:\n",
            "RangeIndex(start=10, stop=16, step=1)\n",
            "\n",
            "DataFrame with new index:\n",
            "   school_code class            name date_of_birth  weight\n",
            "10        s001     V  Alberto Franco    15/05/2002      35\n",
            "11        s002     V    Gino Mcneill    17/05/2002      37\n",
            "12        s003    VI     Ryan Parkes    16/02/1999      33\n",
            "13        s001    VI    Eesha Hinton    25/09/1998      30\n",
            "14        s002     V    Gino Mcneill    11/05/2002      31\n",
            "15        s004    VI    David Parkes    15/09/1997      32\n"
          ],
          "name": "stdout"
        }
      ]
    },
    {
      "cell_type": "code",
      "metadata": {
        "colab": {
          "base_uri": "https://localhost:8080/"
        },
        "id": "tRBHchPJcypd",
        "outputId": "f0ecd48f-a1ef-4ae6-82e9-580ce5aeb26e"
      },
      "source": [
        "import pandas as pd\n",
        "import re as re\n",
        "pd.set_option('display.max_columns', 10)\n",
        "df = pd.DataFrame({\n",
        "    'company_code': ['c0001','c0002','c0003', 'c0003', 'c0004'],\n",
        "    'company_phone_no': ['Company1-Phone no. 4695168357','Company2-Phone no. 8088729013','Company3-Phone no. 6204658086', 'Company4-Phone no. 5159530096', 'Company5-Phone no. 9037952371']\n",
        "    })\n",
        "print(\"Original DataFrame:\")\n",
        "print(df)\n",
        "def find_phone_number(text):\n",
        "    ph_no = re.findall(r\"\\b\\d{10}\\b\",text)\n",
        "    return \"\".join(ph_no)\n",
        "df['number']=df['company_phone_no'].apply(lambda x: find_phone_number(x))\n",
        "print(\"\\Extracting numbers from dataframe columns:\")\n",
        "print(df)"
      ],
      "execution_count": 25,
      "outputs": [
        {
          "output_type": "stream",
          "text": [
            "Original DataFrame:\n",
            "  company_code               company_phone_no\n",
            "0        c0001  Company1-Phone no. 4695168357\n",
            "1        c0002  Company2-Phone no. 8088729013\n",
            "2        c0003  Company3-Phone no. 6204658086\n",
            "3        c0003  Company4-Phone no. 5159530096\n",
            "4        c0004  Company5-Phone no. 9037952371\n",
            "\\Extracting numbers from dataframe columns:\n",
            "  company_code               company_phone_no      number\n",
            "0        c0001  Company1-Phone no. 4695168357  4695168357\n",
            "1        c0002  Company2-Phone no. 8088729013  8088729013\n",
            "2        c0003  Company3-Phone no. 6204658086  6204658086\n",
            "3        c0003  Company4-Phone no. 5159530096  5159530096\n",
            "4        c0004  Company5-Phone no. 9037952371  9037952371\n"
          ],
          "name": "stdout"
        }
      ]
    }
  ]
}